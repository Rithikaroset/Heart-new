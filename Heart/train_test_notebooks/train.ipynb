{
 "cells": [
  {
   "cell_type": "code",
   "execution_count": 1,
   "metadata": {},
   "outputs": [],
   "source": [
    "#Importing basic packages/modules\n",
    "\n",
    "import time\n",
    "import numpy as np\n",
    "import pandas as pd\n",
    "from sklearn import metrics\n",
    "import joblib\n",
    "import warnings\n",
    "warnings.filterwarnings('ignore')"
   ]
  },
  {
   "cell_type": "code",
   "execution_count": 2,
   "metadata": {},
   "outputs": [],
   "source": [
    "data = pd.read_excel('../data/heart disease.xlsx')\n",
    "\n",
    "positive = data.loc[data['target'] == 1]\n",
    "negative = data.loc[data['target'] == 0]\n",
    "\n",
    "X = data.iloc[:, 0:14]\n",
    "Y = data.iloc[:, -1]"
   ]
  },
  {
   "cell_type": "code",
   "execution_count": 3,
   "metadata": {},
   "outputs": [
    {
     "data": {
      "text/html": [
       "<div>\n",
       "<style scoped>\n",
       "    .dataframe tbody tr th:only-of-type {\n",
       "        vertical-align: middle;\n",
       "    }\n",
       "\n",
       "    .dataframe tbody tr th {\n",
       "        vertical-align: top;\n",
       "    }\n",
       "\n",
       "    .dataframe thead th {\n",
       "        text-align: right;\n",
       "    }\n",
       "</style>\n",
       "<table border=\"1\" class=\"dataframe\">\n",
       "  <thead>\n",
       "    <tr style=\"text-align: right;\">\n",
       "      <th></th>\n",
       "      <th>gender</th>\n",
       "      <th>age</th>\n",
       "      <th>currentSmoker</th>\n",
       "      <th>cigsPerDay</th>\n",
       "      <th>BPMeds</th>\n",
       "      <th>prevalentStroke</th>\n",
       "      <th>prevalentHyp</th>\n",
       "      <th>diabetes</th>\n",
       "      <th>totChol</th>\n",
       "      <th>sysBP</th>\n",
       "      <th>diaBP</th>\n",
       "      <th>BMI</th>\n",
       "      <th>heartRate</th>\n",
       "      <th>glucose</th>\n",
       "      <th>target</th>\n",
       "    </tr>\n",
       "  </thead>\n",
       "  <tbody>\n",
       "    <tr>\n",
       "      <th>0</th>\n",
       "      <td>1</td>\n",
       "      <td>39</td>\n",
       "      <td>0</td>\n",
       "      <td>8</td>\n",
       "      <td>0</td>\n",
       "      <td>0</td>\n",
       "      <td>1</td>\n",
       "      <td>0</td>\n",
       "      <td>236</td>\n",
       "      <td>106.0</td>\n",
       "      <td>70.0</td>\n",
       "      <td>26.0</td>\n",
       "      <td>76</td>\n",
       "      <td>82</td>\n",
       "      <td>1</td>\n",
       "    </tr>\n",
       "    <tr>\n",
       "      <th>1</th>\n",
       "      <td>0</td>\n",
       "      <td>46</td>\n",
       "      <td>0</td>\n",
       "      <td>9</td>\n",
       "      <td>0</td>\n",
       "      <td>0</td>\n",
       "      <td>1</td>\n",
       "      <td>0</td>\n",
       "      <td>236</td>\n",
       "      <td>121.0</td>\n",
       "      <td>81.0</td>\n",
       "      <td>26.0</td>\n",
       "      <td>140</td>\n",
       "      <td>82</td>\n",
       "      <td>1</td>\n",
       "    </tr>\n",
       "    <tr>\n",
       "      <th>2</th>\n",
       "      <td>1</td>\n",
       "      <td>48</td>\n",
       "      <td>1</td>\n",
       "      <td>9</td>\n",
       "      <td>1</td>\n",
       "      <td>0</td>\n",
       "      <td>1</td>\n",
       "      <td>0</td>\n",
       "      <td>236</td>\n",
       "      <td>127.5</td>\n",
       "      <td>80.0</td>\n",
       "      <td>26.0</td>\n",
       "      <td>130</td>\n",
       "      <td>82</td>\n",
       "      <td>1</td>\n",
       "    </tr>\n",
       "    <tr>\n",
       "      <th>3</th>\n",
       "      <td>0</td>\n",
       "      <td>61</td>\n",
       "      <td>1</td>\n",
       "      <td>60</td>\n",
       "      <td>1</td>\n",
       "      <td>0</td>\n",
       "      <td>1</td>\n",
       "      <td>0</td>\n",
       "      <td>236</td>\n",
       "      <td>150.0</td>\n",
       "      <td>95.0</td>\n",
       "      <td>26.0</td>\n",
       "      <td>125</td>\n",
       "      <td>82</td>\n",
       "      <td>1</td>\n",
       "    </tr>\n",
       "    <tr>\n",
       "      <th>4</th>\n",
       "      <td>0</td>\n",
       "      <td>46</td>\n",
       "      <td>1</td>\n",
       "      <td>60</td>\n",
       "      <td>0</td>\n",
       "      <td>0</td>\n",
       "      <td>1</td>\n",
       "      <td>0</td>\n",
       "      <td>236</td>\n",
       "      <td>130.0</td>\n",
       "      <td>84.0</td>\n",
       "      <td>26.0</td>\n",
       "      <td>112</td>\n",
       "      <td>82</td>\n",
       "      <td>1</td>\n",
       "    </tr>\n",
       "  </tbody>\n",
       "</table>\n",
       "</div>"
      ],
      "text/plain": [
       "   gender  age  currentSmoker  cigsPerDay  BPMeds  prevalentStroke  \\\n",
       "0       1   39              0           8       0                0   \n",
       "1       0   46              0           9       0                0   \n",
       "2       1   48              1           9       1                0   \n",
       "3       0   61              1          60       1                0   \n",
       "4       0   46              1          60       0                0   \n",
       "\n",
       "   prevalentHyp  diabetes  totChol  sysBP  diaBP   BMI  heartRate  glucose  \\\n",
       "0             1         0      236  106.0   70.0  26.0         76       82   \n",
       "1             1         0      236  121.0   81.0  26.0        140       82   \n",
       "2             1         0      236  127.5   80.0  26.0        130       82   \n",
       "3             1         0      236  150.0   95.0  26.0        125       82   \n",
       "4             1         0      236  130.0   84.0  26.0        112       82   \n",
       "\n",
       "   target  \n",
       "0       1  \n",
       "1       1  \n",
       "2       1  \n",
       "3       1  \n",
       "4       1  "
      ]
     },
     "execution_count": 3,
     "metadata": {},
     "output_type": "execute_result"
    }
   ],
   "source": [
    "data.head()"
   ]
  },
  {
   "cell_type": "code",
   "execution_count": 4,
   "metadata": {},
   "outputs": [
    {
     "name": "stdout",
     "output_type": "stream",
     "text": [
      "<class 'pandas.core.frame.DataFrame'>\n",
      "RangeIndex: 1289 entries, 0 to 1288\n",
      "Data columns (total 15 columns):\n",
      " #   Column           Non-Null Count  Dtype  \n",
      "---  ------           --------------  -----  \n",
      " 0   gender           1289 non-null   int64  \n",
      " 1   age              1289 non-null   int64  \n",
      " 2   currentSmoker    1289 non-null   int64  \n",
      " 3   cigsPerDay       1289 non-null   int64  \n",
      " 4   BPMeds           1289 non-null   int64  \n",
      " 5   prevalentStroke  1289 non-null   int64  \n",
      " 6   prevalentHyp     1289 non-null   int64  \n",
      " 7   diabetes         1289 non-null   int64  \n",
      " 8   totChol          1289 non-null   int64  \n",
      " 9   sysBP            1289 non-null   float64\n",
      " 10  diaBP            1289 non-null   float64\n",
      " 11  BMI              1289 non-null   float64\n",
      " 12  heartRate        1289 non-null   int64  \n",
      " 13  glucose          1289 non-null   int64  \n",
      " 14  target           1289 non-null   int64  \n",
      "dtypes: float64(3), int64(12)\n",
      "memory usage: 151.2 KB\n"
     ]
    }
   ],
   "source": [
    "data.info()"
   ]
  },
  {
   "cell_type": "code",
   "execution_count": 5,
   "metadata": {},
   "outputs": [],
   "source": [
    "from sklearn.model_selection import train_test_split\n",
    "xtrain, xtest, ytrain, ytest = train_test_split(X, Y, test_size = 0.20)"
   ]
  },
  {
   "cell_type": "code",
   "execution_count": 7,
   "metadata": {},
   "outputs": [
    {
     "name": "stdout",
     "output_type": "stream",
     "text": [
      "1. Using RandomForestClassifier Method\n",
      "Accuracy - 100.0\n",
      "Recall - 1.0\n",
      "Precision Score - 1.0\n",
      "Confusion matrix\n",
      "[[131   0]\n",
      " [  0 127]]\n"
     ]
    }
   ],
   "source": [
    "from sklearn.ensemble import RandomForestClassifier\n",
    "RFC = RandomForestClassifier()\n",
    "RFC.fit(xtrain, ytrain)\n",
    "pred_rfc = RFC.predict(xtest)\n",
    "acc_rfc = metrics.accuracy_score(ytest, pred_rfc)*100\n",
    "joblib.dump(RFC, '../models/Heart_RFC.pkl')\n",
    "\n",
    "print('1. Using RandomForestClassifier Method')\n",
    "print('Accuracy - {}'.format(acc_rfc))\n",
    "print('Recall - {}'.format(metrics.recall_score(ytest, pred_rfc)))\n",
    "print('Precision Score - {}'.format(metrics.precision_score(ytest, pred_rfc)))\n",
    "print('Confusion matrix')\n",
    "print(metrics.confusion_matrix(ytest, pred_rfc))"
   ]
  },
  {
   "cell_type": "code",
   "execution_count": 8,
   "metadata": {},
   "outputs": [
    {
     "name": "stdout",
     "output_type": "stream",
     "text": [
      "2. Using Gradient Boosting Method\n",
      "Accuracy - 100.0\n",
      "Recall - 1.0\n",
      "Precision Score - 1.0\n",
      "Confusion matrix\n",
      "[[131   0]\n",
      " [  0 127]]\n"
     ]
    }
   ],
   "source": [
    "from sklearn.ensemble import GradientBoostingClassifier\n",
    "GB = GradientBoostingClassifier()\n",
    "GB.fit(xtrain, ytrain)\n",
    "pred_gb = GB.predict(xtest)\n",
    "acc_gb = metrics.accuracy_score(ytest, pred_gb)*100\n",
    "joblib.dump(GB, '../models/Heart_GB.pkl')\n",
    "\n",
    "print('2. Using Gradient Boosting Method')\n",
    "print('Accuracy - {}'.format(acc_gb))\n",
    "print('Recall - {}'.format(metrics.recall_score(ytest, pred_gb)))\n",
    "print('Precision Score - {}'.format(metrics.precision_score(ytest, pred_gb)))\n",
    "print('Confusion matrix')\n",
    "print(metrics.confusion_matrix(ytest, pred_gb))"
   ]
  },
  {
   "cell_type": "code",
   "execution_count": 9,
   "metadata": {},
   "outputs": [
    {
     "name": "stdout",
     "output_type": "stream",
     "text": [
      "3. Using Logistic Regression Method\n",
      "Accuracy - 99.6124031007752\n",
      "Recall - 0.9921259842519685\n",
      "Precision Score - 1.0\n",
      "Confusion matrix\n",
      "[[131   0]\n",
      " [  1 126]]\n"
     ]
    }
   ],
   "source": [
    "from sklearn.linear_model import LogisticRegression\n",
    "LR = LogisticRegression()\n",
    "LR.fit(xtrain, ytrain)\n",
    "pred_lr = LR.predict(xtest)\n",
    "acc_lr = metrics.accuracy_score(ytest, pred_lr)*100\n",
    "joblib.dump(LR, '../models/Heart_LR.pkl')\n",
    "\n",
    "print('3. Using Logistic Regression Method')\n",
    "print('Accuracy - {}'.format(acc_lr))\n",
    "print('Recall - {}'.format(metrics.recall_score(ytest, pred_lr)))\n",
    "print('Precision Score - {}'.format(metrics.precision_score(ytest, pred_lr)))\n",
    "print('Confusion matrix')\n",
    "print(metrics.confusion_matrix(ytest, pred_lr))"
   ]
  },
  {
   "cell_type": "code",
   "execution_count": 10,
   "metadata": {},
   "outputs": [
    {
     "name": "stdout",
     "output_type": "stream",
     "text": [
      "4. Using SVM Method\n",
      "Accuracy - 96.89922480620154\n",
      "Recall - 0.937007874015748\n",
      "Precision Score - 1.0\n",
      "Confusion matrix\n",
      "[[131   0]\n",
      " [  8 119]]\n"
     ]
    }
   ],
   "source": [
    "from sklearn import svm\n",
    "SVM = svm.LinearSVC(loss='hinge')\n",
    "SVM.fit(xtrain, ytrain)\n",
    "pred_svm = SVM.predict(xtest)\n",
    "acc_svm = metrics.accuracy_score(ytest, pred_svm)*100\n",
    "joblib.dump(SVM, '../models/Heart_SVM.pkl')\n",
    "\n",
    "print('4. Using SVM Method')\n",
    "print('Accuracy - {}'.format(acc_svm))\n",
    "print('Recall - {}'.format(metrics.recall_score(ytest, pred_svm)))\n",
    "print('Precision Score - {}'.format(metrics.precision_score(ytest, pred_svm)))\n",
    "print('Confusion matrix')\n",
    "print(metrics.confusion_matrix(ytest, pred_svm))"
   ]
  },
  {
   "cell_type": "code",
   "execution_count": 11,
   "metadata": {},
   "outputs": [
    {
     "name": "stdout",
     "output_type": "stream",
     "text": [
      "5. Using KNN Method\n",
      "Accuracy - 98.44961240310077\n",
      "Recall - 0.968503937007874\n",
      "Precision Score - 1.0\n",
      "Confusion matrix\n",
      "[[131   0]\n",
      " [  4 123]]\n"
     ]
    }
   ],
   "source": [
    "from sklearn.neighbors import KNeighborsClassifier\n",
    "KNN = KNeighborsClassifier(n_neighbors = 2)\n",
    "KNN.fit(xtrain, ytrain)\n",
    "pred_knn = KNN.predict(xtest)\n",
    "acc_knn = metrics.accuracy_score(ytest, pred_knn)*100\n",
    "joblib.dump(KNN, '../models/Heart_KNN.pkl')\n",
    "\n",
    "print('5. Using KNN Method')\n",
    "print('Accuracy - {}'.format(acc_knn))\n",
    "print('Recall - {}'.format(metrics.recall_score(ytest, pred_knn)))\n",
    "print('Precision Score - {}'.format(metrics.precision_score(ytest, pred_knn)))\n",
    "print('Confusion matrix')\n",
    "print(metrics.confusion_matrix(ytest, pred_knn))"
   ]
  },
  {
   "cell_type": "code",
   "execution_count": 12,
   "metadata": {},
   "outputs": [
    {
     "name": "stdout",
     "output_type": "stream",
     "text": [
      "6. Using Decision Tree Method\n",
      "Accuracy - 100.0\n",
      "Recall - 1.0\n",
      "Precision Score - 1.0\n",
      "Confusion matrix\n",
      "[[131   0]\n",
      " [  0 127]]\n"
     ]
    }
   ],
   "source": [
    "from sklearn.tree import DecisionTreeClassifier\n",
    "DT = DecisionTreeClassifier(max_depth=10, random_state=101, max_features=None, min_samples_leaf=10)\n",
    "DT.fit(xtrain, ytrain)\n",
    "pred_DT = DT.predict(xtest)\n",
    "acc_DT = metrics.accuracy_score(ytest, pred_DT)*100\n",
    "joblib.dump(DT, '../models/Heart_DT.pkl')\n",
    "\n",
    "print('6. Using Decision Tree Method')\n",
    "print('Accuracy - {}'.format(acc_DT))\n",
    "print('Recall - {}'.format(metrics.recall_score(ytest, pred_DT)))\n",
    "print('Precision Score - {}'.format(metrics.precision_score(ytest, pred_DT)))\n",
    "print('Confusion matrix')\n",
    "print(metrics.confusion_matrix(ytest, pred_DT))"
   ]
  },
  {
   "cell_type": "code",
   "execution_count": 15,
   "metadata": {},
   "outputs": [
    {
     "name": "stdout",
     "output_type": "stream",
     "text": [
      "8. Using MLP Method\n",
      "Accuracy - 95.34883720930233\n",
      "Recall - 0.952755905511811\n",
      "Precision Score - 0.952755905511811\n",
      "Confusion matrix\n",
      "[[125   6]\n",
      " [  6 121]]\n"
     ]
    }
   ],
   "source": [
    "from sklearn.neural_network import MLPClassifier\n",
    "MLP = MLPClassifier(hidden_layer_sizes=(64, 32, 1))\n",
    "MLP.fit(xtrain, ytrain)\n",
    "pred_MLP = MLP.predict(xtest)\n",
    "acc_MLP = metrics.accuracy_score(ytest, pred_MLP)*100\n",
    "joblib.dump(MLP, '../models/Heart_MLP.pkl')\n",
    "\n",
    "print('8. Using MLP Method')\n",
    "print('Accuracy - {}'.format(acc_MLP))\n",
    "print('Recall - {}'.format(metrics.recall_score(ytest, pred_MLP)))\n",
    "print('Precision Score - {}'.format(metrics.precision_score(ytest, pred_MLP)))\n",
    "print('Confusion matrix')\n",
    "print(metrics.confusion_matrix(ytest, pred_MLP))"
   ]
  },
  {
   "cell_type": "code",
   "execution_count": 17,
   "metadata": {},
   "outputs": [
    {
     "data": {
      "image/png": "[encoded data removed]",
      "text/plain": [
       "<Figure size 432x288 with 1 Axes>"
      ]
     },
     "metadata": {
      "needs_background": "light"
     },
     "output_type": "display_data"
    }
   ],
   "source": [
    "import matplotlib.pyplot as plt\n",
    "\n",
    "#Defining labels and data\n",
    "height = [acc_rfc, acc_gb, acc_lr, acc_svm , acc_knn, acc_DT, acc_MLP]\n",
    "bars = ('RF', 'GB', 'LR', 'SVM', 'KNN', 'DT', 'MLP')\n",
    "y_pos = np.arange(len(bars))\n",
    " \n",
    "# Create bars and choose color\n",
    "plt.bar(y_pos, height, color = (1.00, 0.65, 0.00, 1.0))\n",
    " \n",
    "# Add Title and Axis names\n",
    "plt.title('Comparision Study')\n",
    "plt.xlabel('Algorithms')\n",
    "plt.ylabel('Accuracy')\n",
    " \n",
    "# Limits for the Y axis\n",
    "plt.ylim(0,100) \n",
    "# Create names\n",
    "plt.xticks(y_pos, bars) \n",
    "#Save the graphic\n",
    "plt.savefig('../graphs/Comparision_Study')\n",
    "# Show graphic\n",
    "plt.show()"
   ]
  },
  {
   "cell_type": "code",
   "execution_count": null,
   "metadata": {},
   "outputs": [],
   "source": []
  }
 ],
 "metadata": {
  "kernelspec": {
   "display_name": "Python 3",
   "language": "python",
   "name": "python3"
  },
  "language_info": {
   "codemirror_mode": {
    "name": "ipython",
    "version": 3
   },
   "file_extension": ".py",
   "mimetype": "text/x-python",
   "name": "python",
   "nbconvert_exporter": "python",
   "pygments_lexer": "ipython3",
   "version": "3.8.8"
  }
 },
 "nbformat": 4,
 "nbformat_minor": 2
}
